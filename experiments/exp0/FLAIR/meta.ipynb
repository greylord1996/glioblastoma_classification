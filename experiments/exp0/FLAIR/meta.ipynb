{
 "cells": [
  {
   "cell_type": "code",
   "execution_count": 1,
   "id": "d5c45e2d",
   "metadata": {},
   "outputs": [],
   "source": [
    "import pandas as pd\n",
    "import matplotlib.pyplot as plt"
   ]
  },
  {
   "cell_type": "code",
   "execution_count": 2,
   "id": "babff405",
   "metadata": {},
   "outputs": [],
   "source": [
    "df_0 = pd.read_csv('FLAIR_weights/resnet34_fold0_final.csv')\n",
    "x_0 = df_0[df_0.loss_valid==df_0.loss_valid.min()]"
   ]
  },
  {
   "cell_type": "code",
   "execution_count": 3,
   "id": "b296439f",
   "metadata": {},
   "outputs": [],
   "source": [
    "df_1 = pd.read_csv('FLAIR_weights/resnet34_fold1_final.csv')\n",
    "x_1 = df_1[df_1.loss_valid==df_1.loss_valid.min()]"
   ]
  },
  {
   "cell_type": "code",
   "execution_count": 4,
   "id": "240e18a2",
   "metadata": {},
   "outputs": [],
   "source": [
    "df_2 = pd.read_csv('FLAIR_weights/resnet34_fold2_final.csv')\n",
    "x_2 = df_2[df_2.loss_valid==df_2.loss_valid.min()]"
   ]
  },
  {
   "cell_type": "code",
   "execution_count": 5,
   "id": "ab40f8ee",
   "metadata": {},
   "outputs": [],
   "source": [
    "df_3 = pd.read_csv('FLAIR_weights/resnet34_fold3_final.csv')\n",
    "x_3 = df_3[df_3.loss_valid==df_3.loss_valid.min()]"
   ]
  },
  {
   "cell_type": "code",
   "execution_count": 6,
   "id": "b2919371",
   "metadata": {},
   "outputs": [],
   "source": [
    "df_4 = pd.read_csv('FLAIR_weights/resnet34_fold4_final.csv')\n",
    "x_4 = df_4[df_4.loss_valid==df_4.loss_valid.min()]"
   ]
  },
  {
   "cell_type": "code",
   "execution_count": 7,
   "id": "0e872f3c",
   "metadata": {},
   "outputs": [],
   "source": [
    "df = pd.concat([x_0, x_1, x_2, x_3, x_4])"
   ]
  },
  {
   "cell_type": "code",
   "execution_count": 8,
   "id": "85eb4b62",
   "metadata": {},
   "outputs": [],
   "source": [
    "df.reset_index(inplace=True)"
   ]
  },
  {
   "cell_type": "code",
   "execution_count": 9,
   "id": "0a768e36",
   "metadata": {},
   "outputs": [
    {
     "data": {
      "text/html": [
       "<div>\n",
       "<style scoped>\n",
       "    .dataframe tbody tr th:only-of-type {\n",
       "        vertical-align: middle;\n",
       "    }\n",
       "\n",
       "    .dataframe tbody tr th {\n",
       "        vertical-align: top;\n",
       "    }\n",
       "\n",
       "    .dataframe thead th {\n",
       "        text-align: right;\n",
       "    }\n",
       "</style>\n",
       "<table border=\"1\" class=\"dataframe\">\n",
       "  <thead>\n",
       "    <tr style=\"text-align: right;\">\n",
       "      <th></th>\n",
       "      <th>index</th>\n",
       "      <th>epoch</th>\n",
       "      <th>loss_train</th>\n",
       "      <th>loss_valid</th>\n",
       "      <th>roc_auc_train</th>\n",
       "      <th>roc_auc_valid</th>\n",
       "      <th>fold</th>\n",
       "    </tr>\n",
       "  </thead>\n",
       "  <tbody>\n",
       "    <tr>\n",
       "      <th>0</th>\n",
       "      <td>8</td>\n",
       "      <td>8</td>\n",
       "      <td>0.676546</td>\n",
       "      <td>0.671917</td>\n",
       "      <td>0.598528</td>\n",
       "      <td>0.653666</td>\n",
       "      <td>0</td>\n",
       "    </tr>\n",
       "    <tr>\n",
       "      <th>1</th>\n",
       "      <td>3</td>\n",
       "      <td>3</td>\n",
       "      <td>0.686666</td>\n",
       "      <td>0.692509</td>\n",
       "      <td>0.571688</td>\n",
       "      <td>0.537471</td>\n",
       "      <td>1</td>\n",
       "    </tr>\n",
       "    <tr>\n",
       "      <th>2</th>\n",
       "      <td>0</td>\n",
       "      <td>0</td>\n",
       "      <td>0.775976</td>\n",
       "      <td>0.685472</td>\n",
       "      <td>0.527897</td>\n",
       "      <td>0.608048</td>\n",
       "      <td>2</td>\n",
       "    </tr>\n",
       "    <tr>\n",
       "      <th>3</th>\n",
       "      <td>1</td>\n",
       "      <td>1</td>\n",
       "      <td>0.728562</td>\n",
       "      <td>0.689620</td>\n",
       "      <td>0.537806</td>\n",
       "      <td>0.569001</td>\n",
       "      <td>3</td>\n",
       "    </tr>\n",
       "    <tr>\n",
       "      <th>4</th>\n",
       "      <td>3</td>\n",
       "      <td>3</td>\n",
       "      <td>0.695735</td>\n",
       "      <td>0.676547</td>\n",
       "      <td>0.556580</td>\n",
       "      <td>0.611028</td>\n",
       "      <td>4</td>\n",
       "    </tr>\n",
       "  </tbody>\n",
       "</table>\n",
       "</div>"
      ],
      "text/plain": [
       "   index  epoch  loss_train  loss_valid  roc_auc_train  roc_auc_valid  fold\n",
       "0      8      8    0.676546    0.671917       0.598528       0.653666     0\n",
       "1      3      3    0.686666    0.692509       0.571688       0.537471     1\n",
       "2      0      0    0.775976    0.685472       0.527897       0.608048     2\n",
       "3      1      1    0.728562    0.689620       0.537806       0.569001     3\n",
       "4      3      3    0.695735    0.676547       0.556580       0.611028     4"
      ]
     },
     "execution_count": 9,
     "metadata": {},
     "output_type": "execute_result"
    }
   ],
   "source": [
    "df"
   ]
  },
  {
   "cell_type": "code",
   "execution_count": 11,
   "id": "652cea79",
   "metadata": {},
   "outputs": [
    {
     "data": {
      "text/plain": [
       "0.5958427822838188"
      ]
     },
     "execution_count": 11,
     "metadata": {},
     "output_type": "execute_result"
    }
   ],
   "source": [
    "df.roc_auc_valid.mean()"
   ]
  },
  {
   "cell_type": "code",
   "execution_count": null,
   "id": "1862e548",
   "metadata": {},
   "outputs": [],
   "source": []
  }
 ],
 "metadata": {
  "kernelspec": {
   "display_name": "blastoma_venv",
   "language": "python",
   "name": "blastoma_venv"
  },
  "language_info": {
   "codemirror_mode": {
    "name": "ipython",
    "version": 3
   },
   "file_extension": ".py",
   "mimetype": "text/x-python",
   "name": "python",
   "nbconvert_exporter": "python",
   "pygments_lexer": "ipython3",
   "version": "3.8.8"
  }
 },
 "nbformat": 4,
 "nbformat_minor": 5
}
