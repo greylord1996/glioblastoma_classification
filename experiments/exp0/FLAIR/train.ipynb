{
 "cells": [
  {
   "cell_type": "code",
   "execution_count": 1,
   "id": "0d455176",
   "metadata": {},
   "outputs": [],
   "source": [
    "import sys\n",
    "import os\n",
    "\n",
    "import pandas as pd\n",
    "\n",
    "import torch\n",
    "import torch.optim as optim\n",
    "import torch.nn as nn\n",
    "from torch.optim.lr_scheduler import ReduceLROnPlateau\n",
    "\n",
    "import pprint\n",
    "\n",
    "from monai.networks.nets.densenet import DenseNet121, DenseNet169, DenseNet201, DenseNet264\n",
    "from monai.networks.nets.efficientnet import EfficientNetBN\n",
    "from monai.networks.nets.resnet import ResNet, resnet34, resnet50, resnet101, resnet152, resnet200\n",
    "\n",
    "from warnings import filterwarnings\n",
    "filterwarnings(\"ignore\")\n",
    "\n",
    "sys.path.append(os.path.join(str(os.path.abspath('')), \"..\", \"..\", \"..\"))\n",
    "\n",
    "from src.train_one_epoch import train_one_epoch\n",
    "from src.get_data_loaders import prepare_train_valid_dataloader\n",
    "from src.validate_func import valid_func"
   ]
  },
  {
   "cell_type": "code",
   "execution_count": 2,
   "id": "f70eedc9",
   "metadata": {},
   "outputs": [],
   "source": [
    "class CFG:\n",
    "    debug = False # change this to run on full data\n",
    "    \n",
    "    image_size = 256\n",
    "    folds = [0, 1, 2, 3, 4]\n",
    "    \n",
    "    kernel_type = \"resnet34\"\n",
    "    \n",
    "    train_batch_size = 6\n",
    "    valid_batch_size = 24\n",
    "    \n",
    "    num_images = 64\n",
    "    mri_type = 'FLAIR'\n",
    "    \n",
    "    init_lr = 1e-4\n",
    "    weight_decay=0\n",
    "    \n",
    "    n_epochs = 20\n",
    "    num_workers = 4\n",
    "\n",
    "    use_amp=True\n",
    "    early_stop = 5\n",
    "\n",
    "    data_dir = PATH_TO_DATA # !!! DEFINE \"PATH_TO_DATA\" on your local machine\n",
    "    model_dir = f'weights/'\n",
    "    seed=12345\n",
    "    "
   ]
  },
  {
   "cell_type": "code",
   "execution_count": 3,
   "id": "b793da43",
   "metadata": {},
   "outputs": [],
   "source": [
    "results_dir = CFG.mri_type + \"_weights/\""
   ]
  },
  {
   "cell_type": "code",
   "execution_count": 4,
   "id": "9644c549",
   "metadata": {},
   "outputs": [
    {
     "name": "stdout",
     "output_type": "stream",
     "text": [
      "mkdir: cannot create directory ‘FLAIR_weights/’: File exists\r\n"
     ]
    }
   ],
   "source": [
    "! mkdir $results_dir"
   ]
  },
  {
   "cell_type": "code",
   "execution_count": 5,
   "id": "155de77b",
   "metadata": {},
   "outputs": [
    {
     "data": {
      "text/html": [
       "<div>\n",
       "<style scoped>\n",
       "    .dataframe tbody tr th:only-of-type {\n",
       "        vertical-align: middle;\n",
       "    }\n",
       "\n",
       "    .dataframe tbody tr th {\n",
       "        vertical-align: top;\n",
       "    }\n",
       "\n",
       "    .dataframe thead th {\n",
       "        text-align: right;\n",
       "    }\n",
       "</style>\n",
       "<table border=\"1\" class=\"dataframe\">\n",
       "  <thead>\n",
       "    <tr style=\"text-align: right;\">\n",
       "      <th></th>\n",
       "      <th>BraTS21ID</th>\n",
       "      <th>MGMT_value</th>\n",
       "      <th>fold</th>\n",
       "    </tr>\n",
       "  </thead>\n",
       "  <tbody>\n",
       "    <tr>\n",
       "      <th>0</th>\n",
       "      <td>0</td>\n",
       "      <td>1</td>\n",
       "      <td>2</td>\n",
       "    </tr>\n",
       "    <tr>\n",
       "      <th>1</th>\n",
       "      <td>2</td>\n",
       "      <td>1</td>\n",
       "      <td>1</td>\n",
       "    </tr>\n",
       "    <tr>\n",
       "      <th>2</th>\n",
       "      <td>3</td>\n",
       "      <td>0</td>\n",
       "      <td>1</td>\n",
       "    </tr>\n",
       "    <tr>\n",
       "      <th>3</th>\n",
       "      <td>5</td>\n",
       "      <td>1</td>\n",
       "      <td>4</td>\n",
       "    </tr>\n",
       "    <tr>\n",
       "      <th>4</th>\n",
       "      <td>6</td>\n",
       "      <td>1</td>\n",
       "      <td>1</td>\n",
       "    </tr>\n",
       "  </tbody>\n",
       "</table>\n",
       "</div>"
      ],
      "text/plain": [
       "   BraTS21ID  MGMT_value  fold\n",
       "0          0           1     2\n",
       "1          2           1     1\n",
       "2          3           0     1\n",
       "3          5           1     4\n",
       "4          6           1     1"
      ]
     },
     "execution_count": 5,
     "metadata": {},
     "output_type": "execute_result"
    }
   ],
   "source": [
    "df_train = pd.read_csv('../../crossval/train_df_folds.csv')\n",
    "if CFG.debug:\n",
    "    df_train = df_train.sample(frac=0.1)\n",
    "df_train.head()"
   ]
  },
  {
   "cell_type": "code",
   "execution_count": 6,
   "id": "c7a2b14a",
   "metadata": {},
   "outputs": [],
   "source": [
    "criterion = nn.BCEWithLogitsLoss()\n",
    "device = torch.device('cuda' if torch.cuda.is_available() else 'cpu')"
   ]
  },
  {
   "cell_type": "code",
   "execution_count": 7,
   "id": "8f949d8c",
   "metadata": {},
   "outputs": [
    {
     "name": "stdout",
     "output_type": "stream",
     "text": [
      "-----------------------------------------------------------------------------------------------------\n",
      "                                        FOLD:  0\n",
      "-----------------------------------------------------------------------------------------------------\n"
     ]
    },
    {
     "name": "stderr",
     "output_type": "stream",
     "text": [
      "loss: 0.57748, total_loss: 0.76216: 100%|████████████| 78/78 [01:54<00:00,  1.47s/it]\n",
      "loss: 1.01524, total_loss: 0.94008: 100%|██████████████| 5/5 [00:19<00:00,  3.99s/it]\n"
     ]
    },
    {
     "name": "stdout",
     "output_type": "stream",
     "text": [
      "{'epoch': 0,\n",
      " 'fold': 0,\n",
      " 'loss_train': 0.7621604868998895,\n",
      " 'loss_valid': 0.9400766134262085,\n",
      " 'roc_auc_train': 0.5190731399747793,\n",
      " 'roc_auc_valid': 0.4322580645161291}\n",
      "roc_auc_max (0.000000 --> 0.432258). Saving model ...\n",
      "loss_min (0.940077 --> 0.940077). Saving model ...\n"
     ]
    },
    {
     "name": "stderr",
     "output_type": "stream",
     "text": [
      "loss: 0.55375, total_loss: 0.70003: 100%|████████████| 78/78 [01:54<00:00,  1.47s/it]\n",
      "loss: 0.71357, total_loss: 0.72886: 100%|██████████████| 5/5 [00:20<00:00,  4.04s/it]\n"
     ]
    },
    {
     "name": "stdout",
     "output_type": "stream",
     "text": [
      "{'epoch': 1,\n",
      " 'fold': 0,\n",
      " 'loss_train': 0.7000334301056006,\n",
      " 'loss_valid': 0.7288556814193725,\n",
      " 'roc_auc_train': 0.548688895482531,\n",
      " 'roc_auc_valid': 0.5304985337243402}\n",
      "roc_auc_max (0.432258 --> 0.530499). Saving model ...\n",
      "loss_min (0.728856 --> 0.728856). Saving model ...\n"
     ]
    },
    {
     "name": "stderr",
     "output_type": "stream",
     "text": [
      "loss: 0.81040, total_loss: 0.68607: 100%|████████████| 78/78 [02:01<00:00,  1.56s/it]\n",
      "loss: 0.74902, total_loss: 0.73659: 100%|██████████████| 5/5 [00:20<00:00,  4.08s/it]\n"
     ]
    },
    {
     "name": "stdout",
     "output_type": "stream",
     "text": [
      "{'epoch': 2,\n",
      " 'fold': 0,\n",
      " 'loss_train': 0.6860737067002517,\n",
      " 'loss_valid': 0.7365878462791443,\n",
      " 'roc_auc_train': 0.5873915139826422,\n",
      " 'roc_auc_valid': 0.5873900293255132}\n",
      "roc_auc_max (0.530499 --> 0.587390). Saving model ...\n"
     ]
    },
    {
     "name": "stderr",
     "output_type": "stream",
     "text": [
      "loss: 0.50475, total_loss: 0.69692: 100%|████████████| 78/78 [02:02<00:00,  1.57s/it]\n",
      "loss: 0.70214, total_loss: 0.69192: 100%|██████████████| 5/5 [00:20<00:00,  4.11s/it]\n"
     ]
    },
    {
     "name": "stdout",
     "output_type": "stream",
     "text": [
      "{'epoch': 3,\n",
      " 'fold': 0,\n",
      " 'loss_train': 0.6969179373521072,\n",
      " 'loss_valid': 0.6919240355491638,\n",
      " 'roc_auc_train': 0.571934574586455,\n",
      " 'roc_auc_valid': 0.5791788856304986}\n",
      "loss_min (0.691924 --> 0.691924). Saving model ...\n"
     ]
    },
    {
     "name": "stderr",
     "output_type": "stream",
     "text": [
      "loss: 0.57273, total_loss: 0.68460: 100%|████████████| 78/78 [02:04<00:00,  1.60s/it]\n",
      "loss: 0.69818, total_loss: 0.68892: 100%|██████████████| 5/5 [00:20<00:00,  4.07s/it]\n"
     ]
    },
    {
     "name": "stdout",
     "output_type": "stream",
     "text": [
      "{'epoch': 4,\n",
      " 'fold': 0,\n",
      " 'loss_train': 0.684599077854401,\n",
      " 'loss_valid': 0.6889237880706787,\n",
      " 'roc_auc_train': 0.5847303612491654,\n",
      " 'roc_auc_valid': 0.6058651026392962}\n",
      "roc_auc_max (0.587390 --> 0.605865). Saving model ...\n",
      "loss_min (0.688924 --> 0.688924). Saving model ...\n"
     ]
    },
    {
     "name": "stderr",
     "output_type": "stream",
     "text": [
      "loss: 0.69981, total_loss: 0.68458: 100%|████████████| 78/78 [02:06<00:00,  1.62s/it]\n",
      "loss: 0.70140, total_loss: 0.67348: 100%|██████████████| 5/5 [00:20<00:00,  4.15s/it]\n"
     ]
    },
    {
     "name": "stdout",
     "output_type": "stream",
     "text": [
      "{'epoch': 5,\n",
      " 'fold': 0,\n",
      " 'loss_train': 0.6845782299836477,\n",
      " 'loss_valid': 0.6734752297401428,\n",
      " 'roc_auc_train': 0.5796862250574883,\n",
      " 'roc_auc_valid': 0.6093841642228739}\n",
      "roc_auc_max (0.605865 --> 0.609384). Saving model ...\n",
      "loss_min (0.673475 --> 0.673475). Saving model ...\n"
     ]
    },
    {
     "name": "stderr",
     "output_type": "stream",
     "text": [
      "loss: 0.61778, total_loss: 0.68591: 100%|████████████| 78/78 [02:01<00:00,  1.56s/it]\n",
      "loss: 0.70937, total_loss: 0.69265: 100%|██████████████| 5/5 [00:20<00:00,  4.09s/it]\n"
     ]
    },
    {
     "name": "stdout",
     "output_type": "stream",
     "text": [
      "{'epoch': 6,\n",
      " 'fold': 0,\n",
      " 'loss_train': 0.685905838624025,\n",
      " 'loss_valid': 0.6926473617553711,\n",
      " 'roc_auc_train': 0.5817724946220606,\n",
      " 'roc_auc_valid': 0.552492668621701}\n"
     ]
    },
    {
     "name": "stderr",
     "output_type": "stream",
     "text": [
      "loss: 0.62391, total_loss: 0.67628: 100%|████████████| 78/78 [01:59<00:00,  1.53s/it]\n",
      "loss: 0.69485, total_loss: 0.68002: 100%|██████████████| 5/5 [00:20<00:00,  4.02s/it]\n"
     ]
    },
    {
     "name": "stdout",
     "output_type": "stream",
     "text": [
      "{'epoch': 7,\n",
      " 'fold': 0,\n",
      " 'loss_train': 0.676284032754409,\n",
      " 'loss_valid': 0.6800158381462097,\n",
      " 'roc_auc_train': 0.5977208664045693,\n",
      " 'roc_auc_valid': 0.5932551319648094}\n"
     ]
    },
    {
     "name": "stderr",
     "output_type": "stream",
     "text": [
      "loss: 0.61289, total_loss: 0.67655: 100%|████████████| 78/78 [02:03<00:00,  1.58s/it]\n",
      "loss: 0.68469, total_loss: 0.67192: 100%|██████████████| 5/5 [00:20<00:00,  4.11s/it]\n"
     ]
    },
    {
     "name": "stdout",
     "output_type": "stream",
     "text": [
      "{'epoch': 8,\n",
      " 'fold': 0,\n",
      " 'loss_train': 0.6765464995151911,\n",
      " 'loss_valid': 0.6719173073768616,\n",
      " 'roc_auc_train': 0.5985275573028708,\n",
      " 'roc_auc_valid': 0.6536656891495602}\n",
      "roc_auc_max (0.609384 --> 0.653666). Saving model ...\n",
      "loss_min (0.671917 --> 0.671917). Saving model ...\n"
     ]
    },
    {
     "name": "stderr",
     "output_type": "stream",
     "text": [
      "loss: 0.72126, total_loss: 0.66901: 100%|████████████| 78/78 [02:00<00:00,  1.54s/it]\n",
      "loss: 0.72862, total_loss: 0.70013: 100%|██████████████| 5/5 [00:20<00:00,  4.13s/it]\n"
     ]
    },
    {
     "name": "stdout",
     "output_type": "stream",
     "text": [
      "{'epoch': 9,\n",
      " 'fold': 0,\n",
      " 'loss_train': 0.6690108967133057,\n",
      " 'loss_valid': 0.7001328706741333,\n",
      " 'roc_auc_train': 0.6257232401157183,\n",
      " 'roc_auc_valid': 0.5909090909090909}\n"
     ]
    },
    {
     "name": "stderr",
     "output_type": "stream",
     "text": [
      "loss: 0.63813, total_loss: 0.67465: 100%|████████████| 78/78 [02:02<00:00,  1.57s/it]\n",
      "loss: 0.70588, total_loss: 0.69039: 100%|██████████████| 5/5 [00:20<00:00,  4.05s/it]\n"
     ]
    },
    {
     "name": "stdout",
     "output_type": "stream",
     "text": [
      "{'epoch': 10,\n",
      " 'fold': 0,\n",
      " 'loss_train': 0.6746469483925746,\n",
      " 'loss_valid': 0.6903860330581665,\n",
      " 'roc_auc_train': 0.6121393071730584,\n",
      " 'roc_auc_valid': 0.5941348973607039}\n"
     ]
    },
    {
     "name": "stderr",
     "output_type": "stream",
     "text": [
      "loss: 0.49017, total_loss: 0.65750: 100%|████████████| 78/78 [01:58<00:00,  1.51s/it]\n",
      "loss: 0.71994, total_loss: 0.69984: 100%|██████████████| 5/5 [00:20<00:00,  4.06s/it]\n"
     ]
    },
    {
     "name": "stdout",
     "output_type": "stream",
     "text": [
      "{'epoch': 11,\n",
      " 'fold': 0,\n",
      " 'loss_train': 0.6574991169648293,\n",
      " 'loss_valid': 0.6998438835144043,\n",
      " 'roc_auc_train': 0.6511757288035012,\n",
      " 'roc_auc_valid': 0.549266862170088}\n"
     ]
    },
    {
     "name": "stderr",
     "output_type": "stream",
     "text": [
      "loss: 0.59638, total_loss: 0.65657: 100%|████████████| 78/78 [01:58<00:00,  1.52s/it]\n",
      "loss: 0.69879, total_loss: 0.68816: 100%|██████████████| 5/5 [00:20<00:00,  4.03s/it]\n"
     ]
    },
    {
     "name": "stdout",
     "output_type": "stream",
     "text": [
      "{'epoch': 12,\n",
      " 'fold': 0,\n",
      " 'loss_train': 0.6565728390063995,\n",
      " 'loss_valid': 0.6881574630737305,\n",
      " 'roc_auc_train': 0.6552091832950079,\n",
      " 'roc_auc_valid': 0.5818181818181818}\n"
     ]
    },
    {
     "name": "stderr",
     "output_type": "stream",
     "text": [
      "loss: 0.45386, total_loss: 0.63303: 100%|████████████| 78/78 [01:58<00:00,  1.51s/it]\n",
      "loss: 0.75090, total_loss: 0.71800: 100%|██████████████| 5/5 [00:20<00:00,  4.07s/it]\n"
     ]
    },
    {
     "name": "stdout",
     "output_type": "stream",
     "text": [
      "{'epoch': 13,\n",
      " 'fold': 0,\n",
      " 'loss_train': 0.6330341459848942,\n",
      " 'loss_valid': 0.7180023193359375,\n",
      " 'roc_auc_train': 0.6973703731177212,\n",
      " 'roc_auc_valid': 0.6008797653958944}\n",
      "Early Stopping...\n",
      "-----------------------------------------------------------------------------------------------------\n",
      "                                        FOLD:  1\n",
      "-----------------------------------------------------------------------------------------------------\n"
     ]
    },
    {
     "name": "stderr",
     "output_type": "stream",
     "text": [
      "loss: 0.75587, total_loss: 0.76692: 100%|████████████| 78/78 [02:01<00:00,  1.56s/it]\n",
      "loss: 0.64539, total_loss: 0.75446: 100%|██████████████| 5/5 [00:20<00:00,  4.05s/it]\n"
     ]
    },
    {
     "name": "stdout",
     "output_type": "stream",
     "text": [
      "{'epoch': 0,\n",
      " 'fold': 1,\n",
      " 'loss_train': 0.7669208607612512,\n",
      " 'loss_valid': 0.7544562339782714,\n",
      " 'roc_auc_train': 0.5000742115027829,\n",
      " 'roc_auc_valid': 0.47950819672131145}\n",
      "roc_auc_max (0.000000 --> 0.479508). Saving model ...\n",
      "loss_min (0.754456 --> 0.754456). Saving model ...\n"
     ]
    },
    {
     "name": "stderr",
     "output_type": "stream",
     "text": [
      "loss: 0.70776, total_loss: 0.69271: 100%|████████████| 78/78 [01:57<00:00,  1.51s/it]\n",
      "loss: 0.66301, total_loss: 0.70237: 100%|██████████████| 5/5 [00:20<00:00,  4.03s/it]\n"
     ]
    },
    {
     "name": "stdout",
     "output_type": "stream",
     "text": [
      "{'epoch': 1,\n",
      " 'fold': 1,\n",
      " 'loss_train': 0.6927062976054656,\n",
      " 'loss_valid': 0.7023653745651245,\n",
      " 'roc_auc_train': 0.5650834879406308,\n",
      " 'roc_auc_valid': 0.5690866510538642}\n",
      "roc_auc_max (0.479508 --> 0.569087). Saving model ...\n",
      "loss_min (0.702365 --> 0.702365). Saving model ...\n"
     ]
    },
    {
     "name": "stderr",
     "output_type": "stream",
     "text": [
      "loss: 0.50071, total_loss: 0.68367: 100%|████████████| 78/78 [01:57<00:00,  1.51s/it]\n",
      "loss: 0.71106, total_loss: 0.70848: 100%|██████████████| 5/5 [00:20<00:00,  4.03s/it]\n"
     ]
    },
    {
     "name": "stdout",
     "output_type": "stream",
     "text": [
      "{'epoch': 2,\n",
      " 'fold': 1,\n",
      " 'loss_train': 0.6836728197641861,\n",
      " 'loss_valid': 0.7084830284118653,\n",
      " 'roc_auc_train': 0.5857328385899814,\n",
      " 'roc_auc_valid': 0.5477166276346606}\n"
     ]
    },
    {
     "name": "stderr",
     "output_type": "stream",
     "text": [
      "loss: 0.64564, total_loss: 0.68667: 100%|████████████| 78/78 [01:57<00:00,  1.51s/it]\n",
      "loss: 0.72344, total_loss: 0.69251: 100%|██████████████| 5/5 [00:20<00:00,  4.00s/it]\n"
     ]
    },
    {
     "name": "stdout",
     "output_type": "stream",
     "text": [
      "{'epoch': 3,\n",
      " 'fold': 1,\n",
      " 'loss_train': 0.6866664259861677,\n",
      " 'loss_valid': 0.6925091505050659,\n",
      " 'roc_auc_train': 0.5716883116883117,\n",
      " 'roc_auc_valid': 0.5374707259953162}\n",
      "loss_min (0.692509 --> 0.692509). Saving model ...\n"
     ]
    },
    {
     "name": "stderr",
     "output_type": "stream",
     "text": [
      "loss: 0.59396, total_loss: 0.68873: 100%|████████████| 78/78 [01:56<00:00,  1.49s/it]\n",
      "loss: 0.76759, total_loss: 0.69684: 100%|██████████████| 5/5 [00:20<00:00,  4.05s/it]\n"
     ]
    },
    {
     "name": "stdout",
     "output_type": "stream",
     "text": [
      "{'epoch': 4,\n",
      " 'fold': 1,\n",
      " 'loss_train': 0.6887348531148373,\n",
      " 'loss_valid': 0.6968430399894714,\n",
      " 'roc_auc_train': 0.5657142857142857,\n",
      " 'roc_auc_valid': 0.549473067915691}\n"
     ]
    },
    {
     "name": "stderr",
     "output_type": "stream",
     "text": [
      "loss: 0.61859, total_loss: 0.69636: 100%|████████████| 78/78 [01:58<00:00,  1.51s/it]\n",
      "loss: 0.68559, total_loss: 0.74895: 100%|██████████████| 5/5 [00:20<00:00,  4.02s/it]\n"
     ]
    },
    {
     "name": "stdout",
     "output_type": "stream",
     "text": [
      "{'epoch': 5,\n",
      " 'fold': 1,\n",
      " 'loss_train': 0.6963576326767603,\n",
      " 'loss_valid': 0.7489516854286193,\n",
      " 'roc_auc_train': 0.5563358070500928,\n",
      " 'roc_auc_valid': 0.5357142857142857}\n"
     ]
    },
    {
     "name": "stderr",
     "output_type": "stream",
     "text": [
      "loss: 0.75198, total_loss: 0.68287: 100%|████████████| 78/78 [01:59<00:00,  1.54s/it]\n",
      "loss: 0.74619, total_loss: 0.69590: 100%|██████████████| 5/5 [00:20<00:00,  4.03s/it]\n"
     ]
    },
    {
     "name": "stdout",
     "output_type": "stream",
     "text": [
      "{'epoch': 6,\n",
      " 'fold': 1,\n",
      " 'loss_train': 0.6828707135640658,\n",
      " 'loss_valid': 0.6958992719650269,\n",
      " 'roc_auc_train': 0.5872820037105752,\n",
      " 'roc_auc_valid': 0.5327868852459017}\n",
      "Early Stopping...\n",
      "-----------------------------------------------------------------------------------------------------\n",
      "                                        FOLD:  2\n",
      "-----------------------------------------------------------------------------------------------------\n"
     ]
    },
    {
     "name": "stderr",
     "output_type": "stream",
     "text": [
      "loss: 0.73232, total_loss: 0.77598: 100%|████████████| 78/78 [01:57<00:00,  1.50s/it]\n",
      "loss: 0.62965, total_loss: 0.68547: 100%|██████████████| 5/5 [00:18<00:00,  3.64s/it]\n"
     ]
    },
    {
     "name": "stdout",
     "output_type": "stream",
     "text": [
      "{'epoch': 0,\n",
      " 'fold': 2,\n",
      " 'loss_train': 0.7759760186458246,\n",
      " 'loss_valid': 0.6854722499847412,\n",
      " 'roc_auc_train': 0.5278973127712623,\n",
      " 'roc_auc_valid': 0.608047690014903}\n",
      "roc_auc_max (0.000000 --> 0.608048). Saving model ...\n",
      "loss_min (0.685472 --> 0.685472). Saving model ...\n"
     ]
    },
    {
     "name": "stderr",
     "output_type": "stream",
     "text": [
      "loss: 0.77827, total_loss: 0.71337: 100%|████████████| 78/78 [01:55<00:00,  1.48s/it]\n",
      "loss: 0.68387, total_loss: 0.69130: 100%|██████████████| 5/5 [00:18<00:00,  3.68s/it]\n"
     ]
    },
    {
     "name": "stdout",
     "output_type": "stream",
     "text": [
      "{'epoch': 1,\n",
      " 'fold': 2,\n",
      " 'loss_train': 0.7133727356409415,\n",
      " 'loss_valid': 0.6913033485412597,\n",
      " 'roc_auc_train': 0.5256902761104442,\n",
      " 'roc_auc_valid': 0.5344262295081967}\n"
     ]
    },
    {
     "name": "stderr",
     "output_type": "stream",
     "text": [
      "loss: 0.71566, total_loss: 0.68906: 100%|████████████| 78/78 [01:54<00:00,  1.47s/it]\n",
      "loss: 0.66465, total_loss: 0.69014: 100%|██████████████| 5/5 [00:18<00:00,  3.64s/it]\n"
     ]
    },
    {
     "name": "stdout",
     "output_type": "stream",
     "text": [
      "{'epoch': 2,\n",
      " 'fold': 2,\n",
      " 'loss_train': 0.6890636812417935,\n",
      " 'loss_valid': 0.6901381134986877,\n",
      " 'roc_auc_train': 0.5749376673746421,\n",
      " 'roc_auc_valid': 0.5377049180327869}\n"
     ]
    },
    {
     "name": "stderr",
     "output_type": "stream",
     "text": [
      "loss: 0.50620, total_loss: 0.68730: 100%|████████████| 78/78 [01:54<00:00,  1.47s/it]\n",
      "loss: 0.65815, total_loss: 0.70915: 100%|██████████████| 5/5 [00:18<00:00,  3.71s/it]\n"
     ]
    },
    {
     "name": "stdout",
     "output_type": "stream",
     "text": [
      "{'epoch': 3,\n",
      " 'fold': 2,\n",
      " 'loss_train': 0.6873039591770905,\n",
      " 'loss_valid': 0.7091546773910522,\n",
      " 'roc_auc_train': 0.5745313510019392,\n",
      " 'roc_auc_valid': 0.5496274217585693}\n"
     ]
    },
    {
     "name": "stderr",
     "output_type": "stream",
     "text": [
      "loss: 0.70205, total_loss: 0.69364: 100%|████████████| 78/78 [01:54<00:00,  1.47s/it]\n",
      "loss: 0.66839, total_loss: 0.70642: 100%|██████████████| 5/5 [00:18<00:00,  3.67s/it]\n"
     ]
    },
    {
     "name": "stdout",
     "output_type": "stream",
     "text": [
      "{'epoch': 4,\n",
      " 'fold': 2,\n",
      " 'loss_train': 0.6936385127214285,\n",
      " 'loss_valid': 0.706421172618866,\n",
      " 'roc_auc_train': 0.5601348231600333,\n",
      " 'roc_auc_valid': 0.5549925484351714}\n"
     ]
    },
    {
     "name": "stderr",
     "output_type": "stream",
     "text": [
      "loss: 0.81279, total_loss: 0.68311: 100%|████████████| 78/78 [01:56<00:00,  1.49s/it]\n",
      "loss: 0.69900, total_loss: 0.69252: 100%|██████████████| 5/5 [00:18<00:00,  3.66s/it]\n"
     ]
    },
    {
     "name": "stdout",
     "output_type": "stream",
     "text": [
      "{'epoch': 5,\n",
      " 'fold': 2,\n",
      " 'loss_train': 0.6831068006845621,\n",
      " 'loss_valid': 0.692519462108612,\n",
      " 'roc_auc_train': 0.5869517037584264,\n",
      " 'roc_auc_valid': 0.5624441132637854}\n",
      "Early Stopping...\n",
      "-----------------------------------------------------------------------------------------------------\n",
      "                                        FOLD:  3\n",
      "-----------------------------------------------------------------------------------------------------\n"
     ]
    },
    {
     "name": "stderr",
     "output_type": "stream",
     "text": [
      "loss: 0.20802, total_loss: 0.74394: 100%|████████████| 78/78 [01:57<00:00,  1.51s/it]\n",
      "loss: 0.69870, total_loss: 0.73853: 100%|██████████████| 5/5 [00:17<00:00,  3.45s/it]\n"
     ]
    },
    {
     "name": "stdout",
     "output_type": "stream",
     "text": [
      "{'epoch': 0,\n",
      " 'fold': 3,\n",
      " 'loss_train': 0.743944356456781,\n",
      " 'loss_valid': 0.7385300993919373,\n",
      " 'roc_auc_train': 0.5421276202788808,\n",
      " 'roc_auc_valid': 0.6220566318926974}\n",
      "roc_auc_max (0.000000 --> 0.622057). Saving model ...\n",
      "loss_min (0.738530 --> 0.738530). Saving model ...\n"
     ]
    },
    {
     "name": "stderr",
     "output_type": "stream",
     "text": [
      "loss: 0.73417, total_loss: 0.72856: 100%|████████████| 78/78 [01:53<00:00,  1.46s/it]\n",
      "loss: 0.68381, total_loss: 0.68962: 100%|██████████████| 5/5 [00:17<00:00,  3.42s/it]\n"
     ]
    },
    {
     "name": "stdout",
     "output_type": "stream",
     "text": [
      "{'epoch': 1,\n",
      " 'fold': 3,\n",
      " 'loss_train': 0.7285616222100381,\n",
      " 'loss_valid': 0.6896203517913818,\n",
      " 'roc_auc_train': 0.5378058915874042,\n",
      " 'roc_auc_valid': 0.5690014903129659}\n",
      "loss_min (0.689620 --> 0.689620). Saving model ...\n"
     ]
    },
    {
     "name": "stderr",
     "output_type": "stream",
     "text": [
      "loss: 0.56297, total_loss: 0.68961: 100%|████████████| 78/78 [01:53<00:00,  1.45s/it]\n",
      "loss: 0.69413, total_loss: 0.69521: 100%|██████████████| 5/5 [00:17<00:00,  3.58s/it]\n"
     ]
    },
    {
     "name": "stdout",
     "output_type": "stream",
     "text": [
      "{'epoch': 2,\n",
      " 'fold': 3,\n",
      " 'loss_train': 0.6896138359338809,\n",
      " 'loss_valid': 0.6952112436294555,\n",
      " 'roc_auc_train': 0.5476313602364022,\n",
      " 'roc_auc_valid': 0.5776453055141579}\n"
     ]
    },
    {
     "name": "stderr",
     "output_type": "stream",
     "text": [
      "loss: 0.71241, total_loss: 0.67948: 100%|████████████| 78/78 [01:53<00:00,  1.46s/it]\n",
      "loss: 0.72473, total_loss: 0.70707: 100%|██████████████| 5/5 [00:18<00:00,  3.69s/it]\n"
     ]
    },
    {
     "name": "stdout",
     "output_type": "stream",
     "text": [
      "{'epoch': 3,\n",
      " 'fold': 3,\n",
      " 'loss_train': 0.6794821337247506,\n",
      " 'loss_valid': 0.7070745587348938,\n",
      " 'roc_auc_train': 0.5970172684458399,\n",
      " 'roc_auc_valid': 0.5150521609538002}\n"
     ]
    },
    {
     "name": "stderr",
     "output_type": "stream",
     "text": [
      "loss: 0.66445, total_loss: 0.68780: 100%|████████████| 78/78 [01:55<00:00,  1.48s/it]\n",
      "loss: 0.72817, total_loss: 0.69561: 100%|██████████████| 5/5 [00:17<00:00,  3.53s/it]\n"
     ]
    },
    {
     "name": "stdout",
     "output_type": "stream",
     "text": [
      "{'epoch': 4,\n",
      " 'fold': 3,\n",
      " 'loss_train': 0.6878014489626273,\n",
      " 'loss_valid': 0.6956098437309265,\n",
      " 'roc_auc_train': 0.5774956136300674,\n",
      " 'roc_auc_valid': 0.5630402384500744}\n"
     ]
    },
    {
     "name": "stderr",
     "output_type": "stream",
     "text": [
      "loss: 0.80527, total_loss: 0.68351: 100%|████████████| 78/78 [02:01<00:00,  1.56s/it]\n",
      "loss: 0.80271, total_loss: 0.75560: 100%|██████████████| 5/5 [00:17<00:00,  3.50s/it]\n"
     ]
    },
    {
     "name": "stdout",
     "output_type": "stream",
     "text": [
      "{'epoch': 5,\n",
      " 'fold': 3,\n",
      " 'loss_train': 0.6835081592584268,\n",
      " 'loss_valid': 0.755600655078888,\n",
      " 'roc_auc_train': 0.5949302798042294,\n",
      " 'roc_auc_valid': 0.513859910581222}\n",
      "Early Stopping...\n",
      "-----------------------------------------------------------------------------------------------------\n",
      "                                        FOLD:  4\n",
      "-----------------------------------------------------------------------------------------------------\n"
     ]
    },
    {
     "name": "stderr",
     "output_type": "stream",
     "text": [
      "loss: 0.68925, total_loss: 0.86275: 100%|████████████| 78/78 [02:05<00:00,  1.61s/it]\n",
      "loss: 0.70097, total_loss: 0.72141: 100%|██████████████| 5/5 [00:19<00:00,  3.82s/it]\n"
     ]
    },
    {
     "name": "stdout",
     "output_type": "stream",
     "text": [
      "{'epoch': 0,\n",
      " 'fold': 4,\n",
      " 'loss_train': 0.8627506295839945,\n",
      " 'loss_valid': 0.7214102029800415,\n",
      " 'roc_auc_train': 0.4823252377874227,\n",
      " 'roc_auc_valid': 0.5481371087928465}\n",
      "roc_auc_max (0.000000 --> 0.548137). Saving model ...\n",
      "loss_min (0.721410 --> 0.721410). Saving model ...\n"
     ]
    },
    {
     "name": "stderr",
     "output_type": "stream",
     "text": [
      "loss: 1.01136, total_loss: 0.71053: 100%|████████████| 78/78 [02:02<00:00,  1.56s/it]\n",
      "loss: 0.78828, total_loss: 0.70062: 100%|██████████████| 5/5 [00:18<00:00,  3.71s/it]\n"
     ]
    },
    {
     "name": "stdout",
     "output_type": "stream",
     "text": [
      "{'epoch': 1,\n",
      " 'fold': 4,\n",
      " 'loss_train': 0.7105267598078802,\n",
      " 'loss_valid': 0.700621509552002,\n",
      " 'roc_auc_train': 0.5381383322559793,\n",
      " 'roc_auc_valid': 0.5928464977645306}\n",
      "roc_auc_max (0.548137 --> 0.592846). Saving model ...\n",
      "loss_min (0.700622 --> 0.700622). Saving model ...\n"
     ]
    },
    {
     "name": "stderr",
     "output_type": "stream",
     "text": [
      "loss: 1.12310, total_loss: 0.68656: 100%|████████████| 78/78 [02:01<00:00,  1.56s/it]\n",
      "loss: 0.68156, total_loss: 0.73012: 100%|██████████████| 5/5 [00:19<00:00,  3.83s/it]\n"
     ]
    },
    {
     "name": "stdout",
     "output_type": "stream",
     "text": [
      "{'epoch': 2,\n",
      " 'fold': 4,\n",
      " 'loss_train': 0.6865570965485696,\n",
      " 'loss_valid': 0.7301161766052247,\n",
      " 'roc_auc_train': 0.5856404100101579,\n",
      " 'roc_auc_valid': 0.46706408345752615}\n"
     ]
    },
    {
     "name": "stderr",
     "output_type": "stream",
     "text": [
      "loss: 0.59868, total_loss: 0.69573: 100%|████████████| 78/78 [01:58<00:00,  1.52s/it]\n",
      "loss: 0.70261, total_loss: 0.67655: 100%|██████████████| 5/5 [00:18<00:00,  3.78s/it]\n"
     ]
    },
    {
     "name": "stdout",
     "output_type": "stream",
     "text": [
      "{'epoch': 3,\n",
      " 'fold': 4,\n",
      " 'loss_train': 0.6957346609769723,\n",
      " 'loss_valid': 0.6765473008155822,\n",
      " 'roc_auc_train': 0.5565795548988827,\n",
      " 'roc_auc_valid': 0.6110283159463487}\n",
      "roc_auc_max (0.592846 --> 0.611028). Saving model ...\n",
      "loss_min (0.676547 --> 0.676547). Saving model ...\n"
     ]
    },
    {
     "name": "stderr",
     "output_type": "stream",
     "text": [
      "loss: 0.72547, total_loss: 0.68974: 100%|████████████| 78/78 [02:13<00:00,  1.71s/it]\n",
      "loss: 0.72912, total_loss: 0.68952: 100%|██████████████| 5/5 [00:19<00:00,  3.86s/it]\n"
     ]
    },
    {
     "name": "stdout",
     "output_type": "stream",
     "text": [
      "{'epoch': 4,\n",
      " 'fold': 4,\n",
      " 'loss_train': 0.689739194435951,\n",
      " 'loss_valid': 0.6895205736160278,\n",
      " 'roc_auc_train': 0.5721673284698494,\n",
      " 'roc_auc_valid': 0.5764530551415796}\n"
     ]
    },
    {
     "name": "stderr",
     "output_type": "stream",
     "text": [
      "loss: 0.77635, total_loss: 0.67898: 100%|████████████| 78/78 [02:09<00:00,  1.66s/it]\n",
      "loss: 0.71823, total_loss: 0.68671: 100%|██████████████| 5/5 [00:18<00:00,  3.76s/it]\n"
     ]
    },
    {
     "name": "stdout",
     "output_type": "stream",
     "text": [
      "{'epoch': 5,\n",
      " 'fold': 4,\n",
      " 'loss_train': 0.6789777737397414,\n",
      " 'loss_valid': 0.6867068767547607,\n",
      " 'roc_auc_train': 0.5932126696832579,\n",
      " 'roc_auc_valid': 0.5764530551415796}\n"
     ]
    },
    {
     "name": "stderr",
     "output_type": "stream",
     "text": [
      "loss: 0.51377, total_loss: 0.67792: 100%|████████████| 78/78 [02:10<00:00,  1.67s/it]\n",
      "loss: 0.72188, total_loss: 0.68641: 100%|██████████████| 5/5 [00:19<00:00,  3.87s/it]\n"
     ]
    },
    {
     "name": "stdout",
     "output_type": "stream",
     "text": [
      "{'epoch': 6,\n",
      " 'fold': 4,\n",
      " 'loss_train': 0.6779151704066839,\n",
      " 'loss_valid': 0.6864084362983703,\n",
      " 'roc_auc_train': 0.6029273247760644,\n",
      " 'roc_auc_valid': 0.588375558867362}\n"
     ]
    },
    {
     "name": "stderr",
     "output_type": "stream",
     "text": [
      "loss: 0.77120, total_loss: 0.67953: 100%|████████████| 78/78 [02:09<00:00,  1.66s/it]\n",
      "loss: 0.63842, total_loss: 0.68688: 100%|██████████████| 5/5 [00:19<00:00,  3.89s/it]\n"
     ]
    },
    {
     "name": "stdout",
     "output_type": "stream",
     "text": [
      "{'epoch': 7,\n",
      " 'fold': 4,\n",
      " 'loss_train': 0.6795313285711484,\n",
      " 'loss_valid': 0.6868777394294738,\n",
      " 'roc_auc_train': 0.6121340844029919,\n",
      " 'roc_auc_valid': 0.5800298062593144}\n"
     ]
    },
    {
     "name": "stderr",
     "output_type": "stream",
     "text": [
      "loss: 0.78616, total_loss: 0.66672: 100%|████████████| 78/78 [01:58<00:00,  1.52s/it]\n",
      "loss: 0.75957, total_loss: 0.72044: 100%|██████████████| 5/5 [00:18<00:00,  3.75s/it]\n"
     ]
    },
    {
     "name": "stdout",
     "output_type": "stream",
     "text": [
      "{'epoch': 8,\n",
      " 'fold': 4,\n",
      " 'loss_train': 0.6667175006407958,\n",
      " 'loss_valid': 0.7204410672187805,\n",
      " 'roc_auc_train': 0.6310832025117739,\n",
      " 'roc_auc_valid': 0.5001490312965723}\n",
      "Early Stopping...\n"
     ]
    }
   ],
   "source": [
    "for fold in CFG.folds:\n",
    "    train_loader, valid_loader = prepare_train_valid_dataloader(\n",
    "        df=df_train, fold=fold, num_images=CFG.num_images,\n",
    "        img_size=CFG.image_size, data_directory=CFG.data_dir, mri_type=CFG.mri_type,\n",
    "        train_batch_size=CFG.train_batch_size, valid_batch_size=CFG.valid_batch_size,\n",
    "        num_workers=CFG.num_workers\n",
    "    )\n",
    "    \n",
    "#     model = DenseNet121(spatial_dims=3, in_channels=1, out_channels=1).to(device)\n",
    "#     model = EfficientNetBN(spatial_dims=3, in_channels=1, num_classes=1, model_name=\"efficientnet-b0\").to(device)\n",
    "    model = resnet34(spatial_dims=3, n_input_channels=1, num_classes=1).to(device)\n",
    "\n",
    "    optimizer = optim.Adam(model.parameters(), lr=CFG.init_lr, weight_decay=CFG.weight_decay)\n",
    "    scheduler = torch.optim.lr_scheduler.ExponentialLR(optimizer, gamma=0.9)\n",
    "\n",
    "#     scheduler = ReduceLROnPlateau(\n",
    "#         optimizer, mode='min', patience=1, min_lr=1e-6, factor=0.1, verbose=True, eps=1e-8\n",
    "#     )\n",
    "\n",
    "    num_epochs = CFG.n_epochs\n",
    "\n",
    "    print(\"-----------------------------------------------------------------------------------------------------\")\n",
    "    print(\"                                        FOLD: \", fold)\n",
    "    print(\"-----------------------------------------------------------------------------------------------------\")\n",
    "    \n",
    "    roc_auc_max = 0.0\n",
    "    loss_min = 99999\n",
    "    ap_max = 0.0\n",
    "    not_improving = 0\n",
    "    metrics_list = list()\n",
    "    \n",
    "    for epoch in range(CFG.n_epochs):\n",
    "        \n",
    "        loss_train, roc_auc_train = train_one_epoch(\n",
    "            model, device, criterion, optimizer, train_loader, CFG.use_amp)\n",
    "        \n",
    "        loss_valid, roc_auc_valid = valid_func(\n",
    "            model, device, criterion, valid_loader)\n",
    "        \n",
    "        scheduler.step()\n",
    "        \n",
    "#         scheduler.step(loss_valid)\n",
    "        \n",
    "        metrics_dictionary = {}\n",
    "        metrics_dictionary['epoch'] = epoch\n",
    "        metrics_dictionary['loss_train'] = loss_train\n",
    "        metrics_dictionary['loss_valid'] = loss_valid\n",
    "        metrics_dictionary['roc_auc_train'] = roc_auc_train\n",
    "        metrics_dictionary['roc_auc_valid'] = roc_auc_valid\n",
    "        metrics_dictionary['fold'] = fold\n",
    "        pprint.pprint(metrics_dictionary)\n",
    "        metrics_list.append(metrics_dictionary)\n",
    "        \n",
    "        not_improving += 1\n",
    "        if roc_auc_valid > roc_auc_max:\n",
    "            print(f'roc_auc_max ({roc_auc_max:.6f} --> {roc_auc_valid:.6f}). Saving model ...')\n",
    "            torch.save(model.state_dict(), f'{results_dir}{CFG.kernel_type}_fold{fold}_best_AUC_{CFG.mri_type}_mri_type.pth')\n",
    "            roc_auc_max = roc_auc_valid\n",
    "            not_improving = 0\n",
    "\n",
    "        if loss_valid < loss_min:\n",
    "            loss_min = loss_valid\n",
    "            print(f'loss_min ({loss_min:.6f} --> {loss_valid:.6f}). Saving model ...')\n",
    "            torch.save(model.state_dict(), f'{results_dir}{CFG.kernel_type}_fold{fold}_best_loss_{CFG.mri_type}_mri_type.pth')\n",
    "\n",
    "            \n",
    "        if not_improving == CFG.early_stop:\n",
    "            print('Early Stopping...')\n",
    "            break\n",
    "\n",
    "    \n",
    "    metrics = pd.DataFrame(metrics_list)\n",
    "    metrics.to_csv(f'{results_dir}{CFG.kernel_type}_fold{fold}_final.csv', index=False)\n",
    "    torch.save(model.state_dict(), f'{results_dir}{CFG.kernel_type}_fold{fold}_final_{CFG.mri_type}_mri_type.pth')\n"
   ]
  },
  {
   "cell_type": "code",
   "execution_count": null,
   "id": "df902211",
   "metadata": {},
   "outputs": [],
   "source": []
  },
  {
   "cell_type": "code",
   "execution_count": null,
   "id": "82ad2cfc",
   "metadata": {},
   "outputs": [],
   "source": []
  }
 ],
 "metadata": {
  "kernelspec": {
   "display_name": "blastoma_venv",
   "language": "python",
   "name": "blastoma_venv"
  },
  "language_info": {
   "codemirror_mode": {
    "name": "ipython",
    "version": 3
   },
   "file_extension": ".py",
   "mimetype": "text/x-python",
   "name": "python",
   "nbconvert_exporter": "python",
   "pygments_lexer": "ipython3",
   "version": "3.8.8"
  }
 },
 "nbformat": 4,
 "nbformat_minor": 5
}
