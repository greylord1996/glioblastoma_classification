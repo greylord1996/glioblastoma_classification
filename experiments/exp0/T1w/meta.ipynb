{
 "cells": [
  {
   "cell_type": "code",
   "execution_count": 11,
   "id": "d5c45e2d",
   "metadata": {},
   "outputs": [],
   "source": [
    "import pandas as pd\n",
    "import matplotlib.pyplot as plt"
   ]
  },
  {
   "cell_type": "code",
   "execution_count": 12,
   "id": "babff405",
   "metadata": {},
   "outputs": [],
   "source": [
    "df_0 = pd.read_csv('T1w_weights/resnet34_fold0_final.csv')\n",
    "x_0 = df_0[df_0.loss_valid==df_0.loss_valid.min()]"
   ]
  },
  {
   "cell_type": "code",
   "execution_count": 13,
   "id": "b296439f",
   "metadata": {},
   "outputs": [],
   "source": [
    "df_1 = pd.read_csv('T1w_weights/resnet34_fold1_final.csv')\n",
    "x_1 = df_1[df_1.loss_valid==df_1.loss_valid.min()]"
   ]
  },
  {
   "cell_type": "code",
   "execution_count": 14,
   "id": "240e18a2",
   "metadata": {},
   "outputs": [],
   "source": [
    "df_2 = pd.read_csv('T1w_weights/resnet34_fold2_final.csv')\n",
    "x_2 = df_2[df_2.loss_valid==df_2.loss_valid.min()]"
   ]
  },
  {
   "cell_type": "code",
   "execution_count": 15,
   "id": "ab40f8ee",
   "metadata": {},
   "outputs": [],
   "source": [
    "df_3 = pd.read_csv('T1w_weights/resnet34_fold3_final.csv')\n",
    "x_3 = df_3[df_3.loss_valid==df_3.loss_valid.min()]"
   ]
  },
  {
   "cell_type": "code",
   "execution_count": 16,
   "id": "b2919371",
   "metadata": {},
   "outputs": [],
   "source": [
    "df_4 = pd.read_csv('T1w_weights/resnet34_fold4_final.csv')\n",
    "x_4 = df_4[df_4.loss_valid==df_4.loss_valid.min()]"
   ]
  },
  {
   "cell_type": "code",
   "execution_count": 17,
   "id": "0e872f3c",
   "metadata": {},
   "outputs": [],
   "source": [
    "df = pd.concat([x_0, x_1, x_2, x_3, x_4])"
   ]
  },
  {
   "cell_type": "code",
   "execution_count": 18,
   "id": "85eb4b62",
   "metadata": {},
   "outputs": [],
   "source": [
    "df.reset_index(inplace=True)"
   ]
  },
  {
   "cell_type": "code",
   "execution_count": 19,
   "id": "0a768e36",
   "metadata": {},
   "outputs": [
    {
     "data": {
      "text/html": [
       "<div>\n",
       "<style scoped>\n",
       "    .dataframe tbody tr th:only-of-type {\n",
       "        vertical-align: middle;\n",
       "    }\n",
       "\n",
       "    .dataframe tbody tr th {\n",
       "        vertical-align: top;\n",
       "    }\n",
       "\n",
       "    .dataframe thead th {\n",
       "        text-align: right;\n",
       "    }\n",
       "</style>\n",
       "<table border=\"1\" class=\"dataframe\">\n",
       "  <thead>\n",
       "    <tr style=\"text-align: right;\">\n",
       "      <th></th>\n",
       "      <th>index</th>\n",
       "      <th>epoch</th>\n",
       "      <th>loss_train</th>\n",
       "      <th>loss_valid</th>\n",
       "      <th>roc_auc_train</th>\n",
       "      <th>roc_auc_valid</th>\n",
       "      <th>fold</th>\n",
       "    </tr>\n",
       "  </thead>\n",
       "  <tbody>\n",
       "    <tr>\n",
       "      <th>0</th>\n",
       "      <td>9</td>\n",
       "      <td>9</td>\n",
       "      <td>0.661846</td>\n",
       "      <td>0.673121</td>\n",
       "      <td>0.648144</td>\n",
       "      <td>0.611730</td>\n",
       "      <td>0</td>\n",
       "    </tr>\n",
       "    <tr>\n",
       "      <th>1</th>\n",
       "      <td>8</td>\n",
       "      <td>8</td>\n",
       "      <td>0.667267</td>\n",
       "      <td>0.686279</td>\n",
       "      <td>0.628896</td>\n",
       "      <td>0.637881</td>\n",
       "      <td>1</td>\n",
       "    </tr>\n",
       "    <tr>\n",
       "      <th>2</th>\n",
       "      <td>5</td>\n",
       "      <td>5</td>\n",
       "      <td>0.686730</td>\n",
       "      <td>0.672385</td>\n",
       "      <td>0.577440</td>\n",
       "      <td>0.615201</td>\n",
       "      <td>2</td>\n",
       "    </tr>\n",
       "    <tr>\n",
       "      <th>3</th>\n",
       "      <td>1</td>\n",
       "      <td>1</td>\n",
       "      <td>0.712726</td>\n",
       "      <td>0.688672</td>\n",
       "      <td>0.505365</td>\n",
       "      <td>0.559762</td>\n",
       "      <td>3</td>\n",
       "    </tr>\n",
       "    <tr>\n",
       "      <th>4</th>\n",
       "      <td>2</td>\n",
       "      <td>2</td>\n",
       "      <td>0.690482</td>\n",
       "      <td>0.683943</td>\n",
       "      <td>0.559775</td>\n",
       "      <td>0.572578</td>\n",
       "      <td>4</td>\n",
       "    </tr>\n",
       "  </tbody>\n",
       "</table>\n",
       "</div>"
      ],
      "text/plain": [
       "   index  epoch  loss_train  loss_valid  roc_auc_train  roc_auc_valid  fold\n",
       "0      9      9    0.661846    0.673121       0.648144       0.611730     0\n",
       "1      8      8    0.667267    0.686279       0.628896       0.637881     1\n",
       "2      5      5    0.686730    0.672385       0.577440       0.615201     2\n",
       "3      1      1    0.712726    0.688672       0.505365       0.559762     3\n",
       "4      2      2    0.690482    0.683943       0.559775       0.572578     4"
      ]
     },
     "execution_count": 19,
     "metadata": {},
     "output_type": "execute_result"
    }
   ],
   "source": [
    "df"
   ]
  },
  {
   "cell_type": "code",
   "execution_count": 20,
   "id": "652cea79",
   "metadata": {},
   "outputs": [
    {
     "data": {
      "text/plain": [
       "0.599430350189208"
      ]
     },
     "execution_count": 20,
     "metadata": {},
     "output_type": "execute_result"
    }
   ],
   "source": [
    "df.roc_auc_valid.mean()"
   ]
  },
  {
   "cell_type": "code",
   "execution_count": null,
   "id": "1862e548",
   "metadata": {},
   "outputs": [],
   "source": []
  }
 ],
 "metadata": {
  "kernelspec": {
   "display_name": "blastoma_venv",
   "language": "python",
   "name": "blastoma_venv"
  },
  "language_info": {
   "codemirror_mode": {
    "name": "ipython",
    "version": 3
   },
   "file_extension": ".py",
   "mimetype": "text/x-python",
   "name": "python",
   "nbconvert_exporter": "python",
   "pygments_lexer": "ipython3",
   "version": "3.8.8"
  }
 },
 "nbformat": 4,
 "nbformat_minor": 5
}
